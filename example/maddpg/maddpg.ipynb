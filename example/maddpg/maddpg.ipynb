{
 "cells": [
  {
   "cell_type": "markdown",
   "metadata": {},
   "source": [
    "# 수정중입니다."
   ]
  },
  {
   "cell_type": "markdown",
   "metadata": {
    "id": "Zmt5bZ1N8zsF",
    "pycharm": {
     "name": "#%%\n"
    }
   },
   "source": [
    "# MADDPG"
   ]
  },
  {
   "cell_type": "markdown",
   "metadata": {
    "id": "RomUCOhH8zsK"
   },
   "source": [
    "ML2에서 자체 개발한 `rl2`라이브러리를 사용하여 학습 해보겠습니다.\n",
    "\n",
    "rl2의 자세한 사용법은 https://github.com/kc-ml2/rl2 를 참고 부탁드립니다."
   ]
  },
  {
   "cell_type": "markdown",
   "metadata": {
    "id": "jHQxwgEPBKeZ"
   },
   "source": [
    "## 셋업"
   ]
  },
  {
   "cell_type": "code",
   "execution_count": 1,
   "metadata": {
    "id": "EO2P_zsq9XgR"
   },
   "outputs": [],
   "source": [
    "## 패키지 설치"
   ]
  },
  {
   "cell_type": "code",
   "execution_count": 2,
   "metadata": {
    "id": "5Tx7v_Hi9RcY"
   },
   "outputs": [
    {
     "name": "stdout",
     "output_type": "stream",
     "text": [
      "ERROR: unknown command \"intsall\" - maybe you meant \"install\"\r\n"
     ]
    }
   ],
   "source": [
    "!pip3 intsall marlenv rl2"
   ]
  },
  {
   "cell_type": "code",
   "execution_count": 3,
   "metadata": {
    "id": "W1E7IfRm9dq8"
   },
   "outputs": [],
   "source": [
    "## 패키지 로드"
   ]
  },
  {
   "cell_type": "code",
   "execution_count": 4,
   "metadata": {
    "id": "ojAZaGsl8zsL"
   },
   "outputs": [],
   "source": [
    "%load_ext tensorboard"
   ]
  },
  {
   "cell_type": "code",
   "execution_count": 5,
   "metadata": {
    "id": "QkNcUpP58zsL"
   },
   "outputs": [],
   "source": [
    "import sys\n",
    "from pprint import pprint"
   ]
  },
  {
   "cell_type": "markdown",
   "metadata": {
    "id": "9Kh-5UhO8zsL"
   },
   "source": [
    "### 학습 디바이스 세팅"
   ]
  },
  {
   "cell_type": "code",
   "execution_count": 6,
   "metadata": {
    "id": "8a6V3mPC8zsM"
   },
   "outputs": [],
   "source": [
    "import os\n",
    "\n",
    "os.environ['CUDA_VISIBLE_DEVICES'] = '1'"
   ]
  },
  {
   "cell_type": "markdown",
   "metadata": {
    "id": "PkUNUU7R8zsM"
   },
   "source": [
    "## Env"
   ]
  },
  {
   "cell_type": "markdown",
   "metadata": {
    "id": "8jgD5nZh8zsM"
   },
   "source": [
    "게임 세팅에 적합한 initialization을 해주는 helper factory 메소드인 `make_snake`를 통해 env를 초기화 합니다.\n",
    "\n",
    "e.g. `n_env` > 1에 대하여 gym의 VecEnv와 동일한 개념의 vectorized env로 초기화가 됩니다.\n",
    "\n",
    "자세한 사용법은 https://github.com/kc-ml2/marlenv 를 참고 하세요!"
   ]
  },
  {
   "cell_type": "code",
   "execution_count": 7,
   "metadata": {
    "id": "jrGvH-7X8zsM"
   },
   "outputs": [],
   "source": [
    "from marlenv.wrappers import make_snake"
   ]
  },
  {
   "cell_type": "markdown",
   "metadata": {
    "id": "3sdsFX5e8zsN"
   },
   "source": [
    "학습할 환경의 세팅은 아래와 같습니다.\n",
    "\n",
    "PPO는 vectorized env에서 학습이 잘 되는 것으로 알려 져있기 떄문에, `n_env=64`로 세팅합니다."
   ]
  },
  {
   "cell_type": "code",
   "execution_count": 8,
   "metadata": {
    "id": "SKg6QJvf8zsN"
   },
   "outputs": [],
   "source": [
    "env_config = dict(\n",
    "    num_snakes=3,\n",
    "    n_env=64,\n",
    "    height=20,\n",
    "    width=20,\n",
    "    frame_stack=2,\n",
    "    vision_range=5,\n",
    ")"
   ]
  },
  {
   "cell_type": "code",
   "execution_count": 9,
   "metadata": {
    "id": "FoqySdtF8zsN"
   },
   "outputs": [],
   "source": [
    "env, obs_shape, ac_shape, props = make_snake(**env_config)"
   ]
  },
  {
   "cell_type": "markdown",
   "metadata": {
    "id": "6HrLsoqm8zsN"
   },
   "source": [
    "`props` 딕셔너리는 초기화 변수에 따른 환경 세팅의 특성들을 담고 있습니다.\n",
    "\n",
    "`reorder`는 tensorflow와 torch의 컨볼루션 레이어가 받는 shape의 순서가 다르기 때문에, 재배열을 해주는 파라미터입니다.\n",
    "\n",
    "gym 컨벤션을 따라서, default값이 False(tensorflow)입니다.\n",
    "\n",
    "p.s. `tensorflow`는 `(N, H, W, C)`, `torch`는 `(N, C, H, W)`"
   ]
  },
  {
   "cell_type": "code",
   "execution_count": 10,
   "metadata": {
    "id": "gA_8lWWl8zsO"
   },
   "outputs": [
    {
     "name": "stdout",
     "output_type": "stream",
     "text": [
      "['high', 'low', 'n_env', 'num_snakes', 'reorder', 'discrete', 'action_info']\n"
     ]
    }
   ],
   "source": [
    "pprint(list(props.keys()))"
   ]
  },
  {
   "cell_type": "markdown",
   "metadata": {
    "id": "igC9aU668zsO"
   },
   "source": [
    "## Config"
   ]
  },
  {
   "cell_type": "code",
   "execution_count": 11,
   "metadata": {
    "id": "W-uasZ9b8zsO"
   },
   "outputs": [],
   "source": [
    "config = dict(\n",
    "    batch_size=512, \n",
    "    epoch=4, \n",
    "    train_interval=128, \n",
    "    log_level=10,\n",
    "    log_interval=5e4, \n",
    "    save_interval=1e6, \n",
    "    lr=1e-4, \n",
    "    gamma=0.99,\n",
    "    grad_clip=10,\n",
    ")"
   ]
  },
  {
   "cell_type": "code",
   "execution_count": 12,
   "metadata": {
    "id": "FQ3hKLoMBW9s"
   },
   "outputs": [],
   "source": [
    "# TODO: remove dependency on easydict\n",
    "from easydict import EasyDict\n",
    "config=EasyDict(config)"
   ]
  },
  {
   "cell_type": "markdown",
   "metadata": {
    "id": "jSQpzdZd8zsP"
   },
   "source": [
    "## Model"
   ]
  },
  {
   "cell_type": "markdown",
   "metadata": {
    "id": "J6Breggk8zsP"
   },
   "source": [
    "`rl2`의 predefined model인 `PPOModel` 클래스를 사용하여 학습하겠습니다."
   ]
  },
  {
   "cell_type": "code",
   "execution_count": 13,
   "metadata": {
    "id": "n2IRGjdd8zsP"
   },
   "outputs": [],
   "source": [
    "from rl2.agents.ppo import PPOModel"
   ]
  },
  {
   "cell_type": "code",
   "execution_count": 14,
   "metadata": {
    "id": "JD0-jyFy8zsP"
   },
   "outputs": [],
   "source": [
    "model = PPOModel(\n",
    "    obs_shape,\n",
    "    ac_shape,\n",
    "    recurrent=False,\n",
    "    discrete=True,\n",
    "    reorder=props['reorder'],\n",
    "    optimizer='torch.optim.RMSprop',\n",
    "    high=props['high']\n",
    ")"
   ]
  },
  {
   "cell_type": "markdown",
   "metadata": {
    "id": "_jTuBsVb8zsP"
   },
   "source": [
    "## Agent"
   ]
  },
  {
   "cell_type": "markdown",
   "metadata": {
    "id": "vXb2DtoT8zsQ"
   },
   "source": [
    "`rl2`의 predefined model인 `PPOAgent` 클래스를 사용하여 학습하겠습니다."
   ]
  },
  {
   "cell_type": "code",
   "execution_count": 15,
   "metadata": {
    "id": "k3ujc0dG8zsQ"
   },
   "outputs": [],
   "source": [
    "from rl2.agents.ppo import PPOAgent"
   ]
  },
  {
   "cell_type": "code",
   "execution_count": 16,
   "metadata": {
    "id": "XuLGsekv8zsQ"
   },
   "outputs": [],
   "source": [
    "def ppo_agent():\n",
    "    agent = PPOAgent(\n",
    "        model,\n",
    "        train_interval=config['train_interval'],\n",
    "        n_env=env_config['n_env'],\n",
    "        batch_size=config['batch_size'],\n",
    "        num_epochs=config['epoch'],\n",
    "        buffer_kwargs={\n",
    "            'size': config['train_interval'],\n",
    "            'n_env': env_config['n_env'],\n",
    "        }\n",
    "    )\n",
    "    \n",
    "    return agent"
   ]
  },
  {
   "cell_type": "code",
   "execution_count": 17,
   "metadata": {
    "id": "lYRw9JdD8zsQ"
   },
   "outputs": [],
   "source": [
    "agents = [ppo_agent() for _ in range(env_config['num_snakes'])]"
   ]
  },
  {
   "cell_type": "markdown",
   "metadata": {
    "id": "yYpCSzRl8zsQ"
   },
   "source": [
    "## Train"
   ]
  },
  {
   "cell_type": "markdown",
   "metadata": {
    "id": "PayggQR88zsR"
   },
   "source": [
    "Agent와 Env의 interaction을 진행시켜주는 Worker 클래스를 사용하여 학습을 진행합니다.\n",
    "\n",
    "`MaxStepWorker`는 클래스명처럼, 주어진 step 횟수만큼 interaction(rollout)을 진행시키고 종료 합니다. 에피소드 단위로 진행하고 싶으시면 `EpisodicWorker` 메뉴얼을 참고 부탁드립니다.\n",
    "\n",
    "Single Agent일때 사용하는 `MaxStepWorker`의 MA버전인 `MAMaxStepWorker`를 사용합니다."
   ]
  },
  {
   "cell_type": "code",
   "execution_count": 18,
   "metadata": {
    "id": "UpcOUTXV8zsR"
   },
   "outputs": [],
   "source": [
    "from rl2.workers.multi_agent import MAMaxStepWorker"
   ]
  },
  {
   "cell_type": "markdown",
   "metadata": {
    "id": "oDkSsc_V_IWi"
   },
   "source": [
    "### Logger\n",
    "\n",
    "`rl2`에서는 본인이 원하는 custom logger 클래스를 정의하여 로깅을 할 수 있습니다.\n",
    "\n",
    "예시로 제공하는 `Logger` 클래스를 활용하여 로깅을 해보겠습니다.\n",
    "\n",
    "해당 클래스는 tensorboard의 `FileWriter`객체를 가지고 있습니다."
   ]
  },
  {
   "cell_type": "code",
   "execution_count": 19,
   "metadata": {
    "id": "Hsdu5COa8zsR"
   },
   "outputs": [],
   "source": [
    "from rl2.examples.temp_logger import Logger"
   ]
  },
  {
   "cell_type": "markdown",
   "metadata": {
    "id": "H5JLr-SrAEfw"
   },
   "source": [
    "로깅 componenets\n",
    "* checkpoint\n",
    "* tensorboard summary data\n",
    "* env setting\n",
    "* etc"
   ]
  },
  {
   "cell_type": "code",
   "execution_count": 20,
   "metadata": {
    "id": "j33gW3yR8zsR"
   },
   "outputs": [],
   "source": [
    "config['log_dir'] = './MAPPO'\n",
    "logger = Logger(name='MAPPO', args=config)"
   ]
  },
  {
   "cell_type": "code",
   "execution_count": 21,
   "metadata": {
    "id": "AzsOujPf8zsR"
   },
   "outputs": [],
   "source": [
    "worker = MAMaxStepWorker(\n",
    "    env, \n",
    "    props['n_env'], \n",
    "    agents,\n",
    "    max_steps=int(1e7),\n",
    "    training=True,\n",
    "    logger=logger,\n",
    "    log_interval=config['log_interval'],\n",
    "    render=True,\n",
    "    render_interval=int(5e5),\n",
    "    is_save=True,\n",
    "    save_interval=config['save_interval'],\n",
    ")"
   ]
  },
  {
   "cell_type": "code",
   "execution_count": null,
   "metadata": {
    "id": "eVQlwCAM8zsS",
    "pycharm": {
     "is_executing": true
    },
    "scrolled": true
   },
   "outputs": [],
   "source": [
    "worker.run()"
   ]
  },
  {
   "cell_type": "markdown",
   "metadata": {
    "id": "dwpxQwOU_OlN"
   },
   "source": [
    "## 텐서보드"
   ]
  },
  {
   "cell_type": "code",
   "execution_count": null,
   "metadata": {
    "id": "_nWLcOKJ8zsS",
    "pycharm": {
     "is_executing": true
    }
   },
   "outputs": [],
   "source": [
    "# %tensorboard --logdir ."
   ]
  },
  {
   "cell_type": "markdown",
   "metadata": {
    "id": "VzIhStbH9vdd"
   },
   "source": [
    "## 에이전트 검증"
   ]
  },
  {
   "cell_type": "markdown",
   "metadata": {
    "id": "PfX9S63i8zsS"
   },
   "source": [
    "## 에이전트 제출"
   ]
  }
 ],
 "metadata": {
  "accelerator": "GPU",
  "colab": {
   "collapsed_sections": [],
   "name": "train.ipynb",
   "provenance": [],
   "toc_visible": true
  },
  "kernelspec": {
   "display_name": "Python 3",
   "language": "python",
   "name": "python3"
  },
  "language_info": {
   "codemirror_mode": {
    "name": "ipython",
    "version": 3
   },
   "file_extension": ".py",
   "mimetype": "text/x-python",
   "name": "python",
   "nbconvert_exporter": "python",
   "pygments_lexer": "ipython3",
   "version": "3.7.9"
  }
 },
 "nbformat": 4,
 "nbformat_minor": 1
}