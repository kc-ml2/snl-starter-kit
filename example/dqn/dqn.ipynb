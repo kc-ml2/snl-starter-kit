{
 "cells": [
  {
   "cell_type": "markdown",
   "metadata": {
    "id": "Zmt5bZ1N8zsF",
    "pycharm": {
     "name": "#%%\n"
    }
   },
   "source": [
    "# DQN\n",
    "\n",
    "본 노트북에서는 잘 알려진 알고리즘인 DQN알고리즘을 활용하여,\n",
    "\n",
    "competitive setting에서의 학습을 진행해보겠습니다."
   ]
  },
  {
   "cell_type": "markdown",
   "metadata": {
    "id": "RomUCOhH8zsK"
   },
   "source": [
    "ML2에서 자체 개발한 `rl2`라이브러리를 사용하여 학습 해보겠습니다.\n",
    "\n",
    "rl2의 자세한 사용법은 https://github.com/kc-ml2/rl2 를 참고 부탁드립니다."
   ]
  },
  {
   "cell_type": "markdown",
   "metadata": {
    "id": "jHQxwgEPBKeZ"
   },
   "source": [
    "## 셋업"
   ]
  },
  {
   "cell_type": "code",
   "execution_count": 1,
   "metadata": {
    "id": "EO2P_zsq9XgR"
   },
   "outputs": [],
   "source": [
    "## 패키지 설치"
   ]
  },
  {
   "cell_type": "code",
   "execution_count": 2,
   "metadata": {
    "id": "5Tx7v_Hi9RcY"
   },
   "outputs": [],
   "source": [
    "# !pip3 intsall marlenv rl2"
   ]
  },
  {
   "cell_type": "code",
   "execution_count": 3,
   "metadata": {
    "id": "W1E7IfRm9dq8"
   },
   "outputs": [],
   "source": [
    "## 패키지 로드"
   ]
  },
  {
   "cell_type": "code",
   "execution_count": 4,
   "metadata": {
    "id": "ojAZaGsl8zsL"
   },
   "outputs": [],
   "source": [
    "%load_ext tensorboard"
   ]
  },
  {
   "cell_type": "code",
   "execution_count": 5,
   "metadata": {
    "id": "QkNcUpP58zsL"
   },
   "outputs": [],
   "source": [
    "import sys\n",
    "from pprint import pprint"
   ]
  },
  {
   "cell_type": "markdown",
   "metadata": {
    "id": "9Kh-5UhO8zsL"
   },
   "source": [
    "### 학습 디바이스 세팅"
   ]
  },
  {
   "cell_type": "code",
   "execution_count": 6,
   "metadata": {
    "id": "8a6V3mPC8zsM"
   },
   "outputs": [],
   "source": [
    "import os\n",
    "\n",
    "os.environ['CUDA_VISIBLE_DEVICES'] = '1'"
   ]
  },
  {
   "cell_type": "markdown",
   "metadata": {
    "id": "PkUNUU7R8zsM"
   },
   "source": [
    "## Env"
   ]
  },
  {
   "cell_type": "code",
   "execution_count": 7,
   "metadata": {
    "id": "jrGvH-7X8zsM"
   },
   "outputs": [],
   "source": [
    "from marlenv.wrappers import make_snake"
   ]
  },
  {
   "cell_type": "code",
   "execution_count": 8,
   "metadata": {
    "id": "SKg6QJvf8zsN"
   },
   "outputs": [],
   "source": [
    "env_config = dict(\n",
    "    num_snakes=1,\n",
    "    n_env=1,\n",
    "    height=20,\n",
    "    width=20,\n",
    "    frame_stack=2,\n",
    "    vision_range=5,\n",
    ")"
   ]
  },
  {
   "cell_type": "code",
   "execution_count": 9,
   "metadata": {
    "id": "FoqySdtF8zsN"
   },
   "outputs": [],
   "source": [
    "env, obs_shape, ac_shape, props = make_snake(**env_config)"
   ]
  },
  {
   "cell_type": "markdown",
   "metadata": {
    "id": "igC9aU668zsO"
   },
   "source": [
    "## Config"
   ]
  },
  {
   "cell_type": "code",
   "execution_count": 10,
   "metadata": {
    "id": "W-uasZ9b8zsO"
   },
   "outputs": [],
   "source": [
    "config = dict(\n",
    "    width=20, \n",
    "    height=20, \n",
    "    vision_range=5, \n",
    "    frame_stack=2,\n",
    "    buffer_size=int(1e5), \n",
    "    batch_size=32, \n",
    "    num_epochs=1,\n",
    "    max_step=int(5e5), \n",
    "    update_interval=int(1e4), \n",
    "    train_interval=1,\n",
    "    log_interval=20000, \n",
    "    save_interval=int(1e5),\n",
    "    optimizer='torch.optim.Adam', \n",
    "    lr=1e-3, \n",
    "    recurrent=True,\n",
    "    gamma=0.99, \n",
    "    eps=0.001, \n",
    "    polyak=0, \n",
    "    decay_step=int(1e5),\n",
    "    grad_clip=10, \n",
    "    tag='DDQN', \n",
    "    double=True,\n",
    "    log_level=10\n",
    ")"
   ]
  },
  {
   "cell_type": "code",
   "execution_count": 11,
   "metadata": {
    "id": "FQ3hKLoMBW9s"
   },
   "outputs": [],
   "source": [
    "# TODO: remove dependency on easydict\n",
    "from easydict import EasyDict\n",
    "config=EasyDict(config)"
   ]
  },
  {
   "cell_type": "markdown",
   "metadata": {
    "id": "jSQpzdZd8zsP"
   },
   "source": [
    "## Model"
   ]
  },
  {
   "cell_type": "code",
   "execution_count": 12,
   "metadata": {
    "id": "n2IRGjdd8zsP"
   },
   "outputs": [],
   "source": [
    "from rl2.agents.dqn import DQNModel"
   ]
  },
  {
   "cell_type": "code",
   "execution_count": 13,
   "metadata": {
    "id": "JD0-jyFy8zsP"
   },
   "outputs": [],
   "source": [
    "model = DQNModel(\n",
    "    observation_shape=obs_shape,\n",
    "    action_shape=ac_shape,\n",
    "    double=config.double,\n",
    "    recurrent=config.recurrent,\n",
    "    optimizer=config.optimizer,\n",
    "    lr=config.lr,\n",
    "    grad_clip=config.grad_clip,\n",
    "    polyak=config.polyak,\n",
    "    reorder=True,\n",
    "    discrete=props.discrete,\n",
    "    high=props.high\n",
    ")"
   ]
  },
  {
   "cell_type": "markdown",
   "metadata": {
    "id": "_jTuBsVb8zsP"
   },
   "source": [
    "## Agent"
   ]
  },
  {
   "cell_type": "markdown",
   "metadata": {
    "id": "vXb2DtoT8zsQ"
   },
   "source": [
    "`rl2`의 predefined model인 `PPOAgent` 클래스를 사용하여 학습하겠습니다."
   ]
  },
  {
   "cell_type": "code",
   "execution_count": 14,
   "metadata": {
    "id": "k3ujc0dG8zsQ"
   },
   "outputs": [],
   "source": [
    "from rl2.agents.dqn import DQNAgent"
   ]
  },
  {
   "cell_type": "code",
   "execution_count": 15,
   "metadata": {
    "id": "XuLGsekv8zsQ"
   },
   "outputs": [],
   "source": [
    "agent = DQNAgent(\n",
    "    model,\n",
    "    update_interval=config.update_interval,\n",
    "    train_interval=config.train_interval,\n",
    "    num_epochs=config.num_epochs,\n",
    "    buffer_size=config.buffer_size,\n",
    "    batch_size=config.batch_size,\n",
    "    decay_step=config.decay_step,\n",
    "    eps=config.eps,\n",
    "    gamma=config.gamma,\n",
    "    log_interval=config.log_interval,\n",
    ")"
   ]
  },
  {
   "cell_type": "markdown",
   "metadata": {
    "id": "yYpCSzRl8zsQ"
   },
   "source": [
    "## Train"
   ]
  },
  {
   "cell_type": "code",
   "execution_count": 16,
   "metadata": {
    "id": "UpcOUTXV8zsR"
   },
   "outputs": [],
   "source": [
    "from rl2.workers.multi_agent import MaxStepWorker"
   ]
  },
  {
   "cell_type": "markdown",
   "metadata": {
    "id": "oDkSsc_V_IWi"
   },
   "source": [
    "### Logger\n",
    "\n",
    "`rl2`에서는 본인이 원하는 custom logger 클래스를 정의하여 로깅을 할 수 있습니다.\n",
    "\n",
    "예시로 제공하는 `Logger` 클래스를 활용하여 로깅을 해보겠습니다.\n",
    "\n",
    "해당 클래스는 tensorboard의 `FileWriter`객체를 가지고 있습니다."
   ]
  },
  {
   "cell_type": "code",
   "execution_count": 17,
   "metadata": {
    "id": "Hsdu5COa8zsR"
   },
   "outputs": [],
   "source": [
    "from rl2.examples.temp_logger import Logger"
   ]
  },
  {
   "cell_type": "markdown",
   "metadata": {
    "id": "H5JLr-SrAEfw"
   },
   "source": [
    "로깅 componenets\n",
    "* checkpoint\n",
    "* tensorboard summary data\n",
    "* env setting\n",
    "* etc"
   ]
  },
  {
   "cell_type": "code",
   "execution_count": 18,
   "metadata": {
    "id": "j33gW3yR8zsR"
   },
   "outputs": [
    {
     "name": "stderr",
     "output_type": "stream",
     "text": [
      "/home/anthony/.pyenv/versions/3.7.9/envs/dev/lib/python3.7/site-packages/pandas/compat/__init__.py:120: UserWarning: Could not import the lzma module. Your installed Python is incomplete. Attempting to use lzma compression will result in a RuntimeError.\n",
      "  warnings.warn(msg)\n"
     ]
    }
   ],
   "source": [
    "config['log_dir'] = './DQN'\n",
    "logger = Logger(name='DQN', args=config)"
   ]
  },
  {
   "cell_type": "code",
   "execution_count": 21,
   "metadata": {
    "id": "AzsOujPf8zsR"
   },
   "outputs": [],
   "source": [
    "worker = MaxStepWorker(\n",
    "    env, \n",
    "    props.n_env, \n",
    "    agent,\n",
    "    max_steps=config.max_step, \n",
    "    training=True,\n",
    "    log_interval=config.log_interval,\n",
    "    render=True,\n",
    "    render_mode='rgb_array',\n",
    "    render_interval=10000,\n",
    "    is_save=True,\n",
    "    save_interval=config.save_interval,\n",
    "    logger=logger\n",
    ")"
   ]
  },
  {
   "cell_type": "code",
   "execution_count": null,
   "metadata": {
    "id": "eVQlwCAM8zsS",
    "scrolled": true
   },
   "outputs": [
    {
     "name": "stdout",
     "output_type": "stream",
     "text": [
      "  ----------------------------------\n",
      "  | Counts/num_episodes | 900      |\n",
      "  | Counts/num_steps    | 20000    |\n",
      "  | Episodic/ep_length  | 22.4     |\n",
      "  | Episodic/rews_avg   | 0.17     |\n",
      "  ----------------------------------\n",
      "  ----------------------------------\n",
      "  | Counts/num_episodes | 1796     |\n",
      "  | Counts/num_steps    | 40000    |\n",
      "  | Episodic/ep_length  | 25.7     |\n",
      "  | Episodic/rews_avg   | 0.35     |\n",
      "  ----------------------------------\n",
      "  ----------------------------------\n",
      "  | Counts/num_episodes | 2613     |\n",
      "  | Counts/num_steps    | 60000    |\n",
      "  | Episodic/ep_length  | 22.8     |\n",
      "  | Episodic/rews_avg   | 0.62     |\n",
      "  ----------------------------------\n",
      "  ----------------------------------\n",
      "  | Counts/num_episodes | 3405     |\n",
      "  | Counts/num_steps    | 80000    |\n",
      "  | Episodic/ep_length  | 25.9     |\n",
      "  | Episodic/rews_avg   | 0.73     |\n",
      "  ----------------------------------\n",
      "  ----------------------------------\n",
      "  | Counts/num_episodes | 3735     |\n",
      "  | Counts/num_steps    | 100000   |\n",
      "  | Episodic/ep_length  | 87.8     |\n",
      "  | Episodic/rews_avg   | 2.82     |\n",
      "  ----------------------------------\n",
      "model saved in ./DQN/DDQN/20210514134624/ckpt/100k\n",
      "  ----------------------------------\n",
      "  | Counts/num_episodes | 3870     |\n",
      "  | Counts/num_steps    | 120000   |\n",
      "  | Episodic/ep_length  | 159      |\n",
      "  | Episodic/rews_avg   | 4.6      |\n",
      "  ----------------------------------\n",
      "  ----------------------------------\n",
      "  | Counts/num_episodes | 4008     |\n",
      "  | Counts/num_steps    | 140000   |\n",
      "  | Episodic/ep_length  | 137      |\n",
      "  | Episodic/rews_avg   | 3.77     |\n",
      "  ----------------------------------\n"
     ]
    }
   ],
   "source": [
    "worker.run()"
   ]
  },
  {
   "cell_type": "markdown",
   "metadata": {
    "id": "dwpxQwOU_OlN"
   },
   "source": [
    "## 텐서보드"
   ]
  },
  {
   "cell_type": "code",
   "execution_count": null,
   "metadata": {
    "id": "_nWLcOKJ8zsS"
   },
   "outputs": [],
   "source": [
    "# %tensorboard --logdir ."
   ]
  },
  {
   "cell_type": "markdown",
   "metadata": {
    "id": "VzIhStbH9vdd"
   },
   "source": [
    "## 에이전트 검증"
   ]
  },
  {
   "cell_type": "code",
   "execution_count": null,
   "metadata": {},
   "outputs": [],
   "source": [
    "!python3 -m pytest support/test.py"
   ]
  },
  {
   "cell_type": "markdown",
   "metadata": {
    "id": "PfX9S63i8zsS"
   },
   "source": [
    "## 에이전트 제출"
   ]
  },
  {
   "cell_type": "code",
   "execution_count": null,
   "metadata": {},
   "outputs": [],
   "source": [
    "!sh submit.sh"
   ]
  }
 ],
 "metadata": {
  "accelerator": "GPU",
  "colab": {
   "collapsed_sections": [],
   "name": "train.ipynb",
   "provenance": [],
   "toc_visible": true
  },
  "kernelspec": {
   "display_name": "Python 3",
   "language": "python",
   "name": "python3"
  },
  "language_info": {
   "codemirror_mode": {
    "name": "ipython",
    "version": 3
   },
   "file_extension": ".py",
   "mimetype": "text/x-python",
   "name": "python",
   "nbconvert_exporter": "python",
   "pygments_lexer": "ipython3",
   "version": "3.7.9"
  }
 },
 "nbformat": 4,
 "nbformat_minor": 1
}
